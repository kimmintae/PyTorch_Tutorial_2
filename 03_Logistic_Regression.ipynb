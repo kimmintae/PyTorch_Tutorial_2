{
 "cells": [
  {
   "cell_type": "code",
   "execution_count": 3,
   "metadata": {},
   "outputs": [],
   "source": [
    "import torch\n",
    "import torch.nn as nn\n",
    "import torchvision.datasets as dsets\n",
    "import torchvision.transforms as transforms\n",
    "from torch.autograd import Variable"
   ]
  },
  {
   "cell_type": "code",
   "execution_count": 4,
   "metadata": {},
   "outputs": [],
   "source": [
    "# Hyper Parameters\n",
    "input_size = 784\n",
    "num_classes = 10\n",
    "num_epochs = 5\n",
    "batch_size = 100\n",
    "learning_rate = 0.001"
   ]
  },
  {
   "cell_type": "code",
   "execution_count": 6,
   "metadata": {},
   "outputs": [
    {
     "name": "stdout",
     "output_type": "stream",
     "text": [
      "Downloading http://yann.lecun.com/exdb/mnist/train-images-idx3-ubyte.gz\n",
      "Downloading http://yann.lecun.com/exdb/mnist/train-labels-idx1-ubyte.gz\n",
      "Downloading http://yann.lecun.com/exdb/mnist/t10k-images-idx3-ubyte.gz\n",
      "Downloading http://yann.lecun.com/exdb/mnist/t10k-labels-idx1-ubyte.gz\n",
      "Processing...\n",
      "Done!\n"
     ]
    }
   ],
   "source": [
    "# MNIST Dataset (Images and Labels)\n",
    "train_dataset = dsets.MNIST(root='./data',\n",
    "                            train=True,\n",
    "                            transform=transforms.ToTensor(),\n",
    "                            download=True)\n",
    "\n",
    "test_dataset = dsets.MNIST(root='./data', \n",
    "                           train=False, \n",
    "                           transform=transforms.ToTensor())"
   ]
  },
  {
   "cell_type": "code",
   "execution_count": 8,
   "metadata": {},
   "outputs": [],
   "source": [
    "# Dataset Loader(Input Pipline)\n",
    "train_loader = torch.utils.data.DataLoader(dataset=train_dataset,\n",
    "                                           batch_size=batch_size,\n",
    "                                           shuffle=True)\n",
    "test_loader = torch.utils.data.DataLoader(dataset=test_dataset,\n",
    "                                          batch_size=batch_size,\n",
    "                                          shuffle=False)"
   ]
  },
  {
   "cell_type": "code",
   "execution_count": 21,
   "metadata": {},
   "outputs": [],
   "source": [
    "# Model\n",
    "class LogisticRegression(nn.Module):\n",
    "    def __init__(self, input_size, num_classes):\n",
    "        super(LogisticRegression, self).__init__()\n",
    "        self.linear = nn.Linear(input_size, num_classes)\n",
    "        \n",
    "    def forward(self, x):\n",
    "        out = self.linear(x)\n",
    "        return out"
   ]
  },
  {
   "cell_type": "code",
   "execution_count": 22,
   "metadata": {},
   "outputs": [],
   "source": [
    "model = LogisticRegression(input_size, num_classes)"
   ]
  },
  {
   "cell_type": "code",
   "execution_count": 23,
   "metadata": {},
   "outputs": [],
   "source": [
    "# Loss and Optimizer\n",
    "# Softmax is internally computed.\n",
    "# Set parameters to be updated.\n",
    "criterion = nn.CrossEntropyLoss()\n",
    "optimizer = torch.optim.SGD(model.parameters(), lr=learning_rate)"
   ]
  },
  {
   "cell_type": "code",
   "execution_count": 24,
   "metadata": {},
   "outputs": [
    {
     "name": "stdout",
     "output_type": "stream",
     "text": [
      "Epoch: [ 1/ 5], Step: [100/600], Loss: 2.2027\n",
      "Epoch: [ 1/ 5], Step: [200/600], Loss: 2.1018\n",
      "Epoch: [ 1/ 5], Step: [300/600], Loss: 2.0074\n",
      "Epoch: [ 1/ 5], Step: [400/600], Loss: 1.9420\n",
      "Epoch: [ 1/ 5], Step: [500/600], Loss: 1.8881\n",
      "Epoch: [ 1/ 5], Step: [600/600], Loss: 1.7922\n",
      "Epoch: [ 2/ 5], Step: [100/600], Loss: 1.7483\n",
      "Epoch: [ 2/ 5], Step: [200/600], Loss: 1.7672\n",
      "Epoch: [ 2/ 5], Step: [300/600], Loss: 1.7013\n",
      "Epoch: [ 2/ 5], Step: [400/600], Loss: 1.5259\n",
      "Epoch: [ 2/ 5], Step: [500/600], Loss: 1.5173\n",
      "Epoch: [ 2/ 5], Step: [600/600], Loss: 1.4679\n",
      "Epoch: [ 3/ 5], Step: [100/600], Loss: 1.4301\n",
      "Epoch: [ 3/ 5], Step: [200/600], Loss: 1.3625\n",
      "Epoch: [ 3/ 5], Step: [300/600], Loss: 1.3387\n",
      "Epoch: [ 3/ 5], Step: [400/600], Loss: 1.2749\n",
      "Epoch: [ 3/ 5], Step: [500/600], Loss: 1.2412\n",
      "Epoch: [ 3/ 5], Step: [600/600], Loss: 1.2234\n",
      "Epoch: [ 4/ 5], Step: [100/600], Loss: 1.2459\n",
      "Epoch: [ 4/ 5], Step: [200/600], Loss: 1.2201\n",
      "Epoch: [ 4/ 5], Step: [300/600], Loss: 1.1256\n",
      "Epoch: [ 4/ 5], Step: [400/600], Loss: 1.1667\n",
      "Epoch: [ 4/ 5], Step: [500/600], Loss: 1.1269\n",
      "Epoch: [ 4/ 5], Step: [600/600], Loss: 1.1290\n",
      "Epoch: [ 5/ 5], Step: [100/600], Loss: 1.0811\n",
      "Epoch: [ 5/ 5], Step: [200/600], Loss: 1.0493\n",
      "Epoch: [ 5/ 5], Step: [300/600], Loss: 1.0572\n",
      "Epoch: [ 5/ 5], Step: [400/600], Loss: 0.9916\n",
      "Epoch: [ 5/ 5], Step: [500/600], Loss: 1.0474\n",
      "Epoch: [ 5/ 5], Step: [600/600], Loss: 0.9419\n"
     ]
    }
   ],
   "source": [
    "# Training the Model\n",
    "for epoch in range(num_epochs):\n",
    "    for i, (images, labels) in enumerate(train_loader):\n",
    "        images = Variable(images.view(-1, 28*28))\n",
    "        labels = Variable(labels)\n",
    "        \n",
    "        # Forward + Backward + Optimize\n",
    "        optimizer.zero_grad()\n",
    "        outputs = model(images)\n",
    "        loss = criterion(outputs, labels)\n",
    "        loss.backward()\n",
    "        optimizer.step()\n",
    "        \n",
    "        if (i+1) % 100 == 0:\n",
    "            print('Epoch: [%2d/%2d], Step: [%2d/%2d], Loss: %.4f'\n",
    "                 %(epoch+1, num_epochs, i+1, len(train_dataset)//batch_size, loss.data[0]))"
   ]
  },
  {
   "cell_type": "code",
   "execution_count": 27,
   "metadata": {},
   "outputs": [
    {
     "name": "stdout",
     "output_type": "stream",
     "text": [
      "Accuracy of the model on the 10000 test images: 83 %\n"
     ]
    }
   ],
   "source": [
    "# Test the Model\n",
    "correct = 0\n",
    "total = 0\n",
    "for images, labels in test_loader:\n",
    "    images = Variable(images.view(-1, 28*28))\n",
    "    outputs = model(images)\n",
    "    _, predicted = torch.max(outputs.data, 1)\n",
    "    total += labels.size(0)\n",
    "    correct += (predicted == labels).sum()\n",
    "\n",
    "print('Accuracy of the model on the 10000 test images: %d %%'%(100*correct/total))"
   ]
  },
  {
   "cell_type": "code",
   "execution_count": 28,
   "metadata": {},
   "outputs": [],
   "source": [
    "# Save the Model\n",
    "torch.save(model.state_dict(), 'model.pkl')"
   ]
  }
 ],
 "metadata": {
  "kernelspec": {
   "display_name": "Python 3",
   "language": "python",
   "name": "python3"
  },
  "language_info": {
   "codemirror_mode": {
    "name": "ipython",
    "version": 3
   },
   "file_extension": ".py",
   "mimetype": "text/x-python",
   "name": "python",
   "nbconvert_exporter": "python",
   "pygments_lexer": "ipython3",
   "version": "3.6.3"
  }
 },
 "nbformat": 4,
 "nbformat_minor": 2
}
